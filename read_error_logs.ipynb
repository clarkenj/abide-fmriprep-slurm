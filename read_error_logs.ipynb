{
 "cells": [
  {
   "cell_type": "code",
   "execution_count": 1,
   "id": "8ed96dcc",
   "metadata": {},
   "outputs": [],
   "source": [
    "import pandas as pd\n",
    "\n",
    "from pathlib import Path\n",
    "from nltk import word_tokenize"
   ]
  },
  {
   "cell_type": "code",
   "execution_count": 2,
   "id": "cf26fc8d",
   "metadata": {},
   "outputs": [],
   "source": [
    "#path to directory containing error logs as .txt files\n",
    "error_p = Path(\"__file__\").resolve().parents[0] / 'adni_error_logs'"
   ]
  },
  {
   "cell_type": "code",
   "execution_count": 3,
   "id": "619f8b17",
   "metadata": {},
   "outputs": [],
   "source": [
    "log_list = []\n",
    "out_memory_list = []\n",
    "time_limit_list = []\n",
    "trait_list = []\n",
    "\n",
    "for file in error_p.iterdir(): #for every file in the path\n",
    "    log_list.append(file) #save the file's name in the list_files list\n",
    "    with open(file) as f:\n",
    "        f_lines = f.readlines() #reads over each line of the file\n",
    "\n",
    "    for line in f_lines: #for each line of the file\n",
    "        split_line = line.split() #splits the contents of each line according to white space.\n",
    "\n",
    "        #loop through tokens and see if they correspond to common error terms. If so, add file name to list\n",
    "        for token in split_line:\n",
    "            if token == 'out-of-memory':\n",
    "                out_memory_list.append(file.stem)\n",
    "\n",
    "            if token == 'LIMIT': \n",
    "                time_limit_list.append(file.stem)\n",
    "\n",
    "            if token == 'FunctionalSummaryInputSpec':\n",
    "                trait_list.append(file.stem)\n",
    "                               "
   ]
  },
  {
   "cell_type": "code",
   "execution_count": 4,
   "id": "cd0749d3",
   "metadata": {},
   "outputs": [
    {
     "name": "stdout",
     "output_type": "stream",
     "text": [
      "756 error logs found\n",
      "91 may have been killed by the out-of-memory handler\n",
      "119 were cancelled due to time limit\n",
      "0 have a FunctionalSummaryInputSpec error\n"
     ]
    }
   ],
   "source": [
    "print ('{} error logs found'.format(len(log_list)))\n",
    "print ('{} may have been killed by the out-of-memory handler'.format(len(out_memory_list)))\n",
    "print ('{} were cancelled due to time limit'.format(len(time_limit_list)))\n",
    "print ('{} have a FunctionalSummaryInputSpec error'.format(len(trait_list)))"
   ]
  },
  {
   "cell_type": "code",
   "execution_count": 5,
   "id": "0f4418ca",
   "metadata": {},
   "outputs": [
    {
     "data": {
      "text/plain": [
       "122"
      ]
     },
     "execution_count": 5,
     "metadata": {},
     "output_type": "execute_result"
    }
   ],
   "source": [
    "# optionally find those who need to be re-run\n",
    "to_rerun = out_memory_list+time_limit_list\n",
    "to_rerun = set(to_rerun)\n",
    "len(to_rerun)"
   ]
  },
  {
   "cell_type": "code",
   "execution_count": 6,
   "id": "7371ab44",
   "metadata": {},
   "outputs": [],
   "source": [
    "# to get the subject IDs who need to be re-run\n",
    "to_rerun_subject = []\n",
    "for i in to_rerun:\n",
    "    subj = i.split('-')[1]\n",
    "    subj = subj.split('.')[0]\n",
    "    to_rerun_subject.append(subj)"
   ]
  },
  {
   "cell_type": "code",
   "execution_count": 7,
   "id": "eb288d92",
   "metadata": {},
   "outputs": [
    {
     "data": {
      "text/plain": [
       "122"
      ]
     },
     "execution_count": 7,
     "metadata": {},
     "output_type": "execute_result"
    }
   ],
   "source": [
    "len(to_rerun_subject)"
   ]
  },
  {
   "cell_type": "code",
   "execution_count": 8,
   "id": "8d8b31ed",
   "metadata": {},
   "outputs": [
    {
     "name": "stdout",
     "output_type": "stream",
     "text": [
      "010S4345 941S6499 037S6230 007S6323 023S6356 067S4184 941S6496 041S4513 023S0031 023S6547 052S4944 007S1222 067S4072 067S6529 041S4510 067S6474 067S4212 067S4767 941S6495 037S4030 051S6527 341S6605 128S0205 082S4224 094S6468 007S4488 128S4742 109S4531 067S0056 941S6580 037S6620 941S6068 116S6119 007S6341 941S6514 023S6399 023S4115 023S4448 067S6045 341S6494 136S4726 941S6345 010S6567 005S0610 094S6485 052S6305 007S6120 109S4499 941S6581 051S5285 941S4365 023S6535 941S6422 067S6117 037S4214 037S6271 007S6521 037S6204 023S6374 007S6515 037S6216 341S6653 007S4272 023S6346 023S6400 037S6627 067S4782 941S6392 941S6384 010S4442 941S6546 136S4836 941S6052 018S4696 011S4105 007S2394 941S5124 007S4387 109S4594 067S6442 007S6455 037S0377 011S0021 067S6443 941S1195 018S4313 037S6187 067S0059 012S4026 052S1352 007S6421 067S2304 024S5290 067S2301 007S6255 018S4349 037S6222 941S6574 023S1190 023S6369 010S5163 023S6334 002S0685 023S6661 941S4376 941S6471 007S5265 067S6138 037S6083 941S6454 010S4135 007S4637 018S4257 941S6570 007S6310 019S4477 024S6472 941S6333 007S4620 002S6652 114S6347 941S6575\n"
     ]
    }
   ],
   "source": [
    "print(*to_rerun_subject)"
   ]
  }
 ],
 "metadata": {
  "kernelspec": {
   "display_name": "Python 3 (ipykernel)",
   "language": "python",
   "name": "python3"
  },
  "language_info": {
   "codemirror_mode": {
    "name": "ipython",
    "version": 3
   },
   "file_extension": ".py",
   "mimetype": "text/x-python",
   "name": "python",
   "nbconvert_exporter": "python",
   "pygments_lexer": "ipython3",
   "version": "3.7.3"
  }
 },
 "nbformat": 4,
 "nbformat_minor": 5
}
